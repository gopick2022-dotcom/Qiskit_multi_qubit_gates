{
  "nbformat": 4,
  "nbformat_minor": 0,
  "metadata": {
    "colab": {
      "provenance": []
    },
    "kernelspec": {
      "name": "python3",
      "display_name": "Python 3"
    },
    "language_info": {
      "name": "python"
    }
  },
  "cells": [
    {
      "cell_type": "code",
      "source": [
        "!pip install qiskit qiskit-aer --upgrade"
      ],
      "metadata": {
        "id": "Mx6284lurNt1",
        "outputId": "b66dc76e-8c9c-4445-a9e3-7a09a0427fe2",
        "colab": {
          "base_uri": "https://localhost:8080/"
        }
      },
      "execution_count": 1,
      "outputs": [
        {
          "output_type": "stream",
          "name": "stdout",
          "text": [
            "Collecting qiskit\n",
            "  Downloading qiskit-2.2.1-cp39-abi3-manylinux2014_x86_64.manylinux_2_17_x86_64.whl.metadata (12 kB)\n",
            "Collecting qiskit-aer\n",
            "  Downloading qiskit_aer-0.17.2-cp312-cp312-manylinux_2_17_x86_64.manylinux2014_x86_64.whl.metadata (8.3 kB)\n",
            "Collecting rustworkx>=0.15.0 (from qiskit)\n",
            "  Downloading rustworkx-0.17.1-cp39-abi3-manylinux_2_17_x86_64.manylinux2014_x86_64.whl.metadata (10 kB)\n",
            "Requirement already satisfied: numpy<3,>=1.17 in /usr/local/lib/python3.12/dist-packages (from qiskit) (2.0.2)\n",
            "Requirement already satisfied: scipy>=1.5 in /usr/local/lib/python3.12/dist-packages (from qiskit) (1.16.2)\n",
            "Requirement already satisfied: dill>=0.3 in /usr/local/lib/python3.12/dist-packages (from qiskit) (0.3.8)\n",
            "Collecting stevedore>=3.0.0 (from qiskit)\n",
            "  Downloading stevedore-5.5.0-py3-none-any.whl.metadata (2.2 kB)\n",
            "Requirement already satisfied: typing-extensions in /usr/local/lib/python3.12/dist-packages (from qiskit) (4.15.0)\n",
            "Requirement already satisfied: psutil>=5 in /usr/local/lib/python3.12/dist-packages (from qiskit-aer) (5.9.5)\n",
            "Requirement already satisfied: python-dateutil>=2.8.0 in /usr/local/lib/python3.12/dist-packages (from qiskit-aer) (2.9.0.post0)\n",
            "Requirement already satisfied: six>=1.5 in /usr/local/lib/python3.12/dist-packages (from python-dateutil>=2.8.0->qiskit-aer) (1.17.0)\n",
            "Downloading qiskit-2.2.1-cp39-abi3-manylinux2014_x86_64.manylinux_2_17_x86_64.whl (8.0 MB)\n",
            "\u001b[2K   \u001b[90m━━━━━━━━━━━━━━━━━━━━━━━━━━━━━━━━━━━━━━━━\u001b[0m \u001b[32m8.0/8.0 MB\u001b[0m \u001b[31m13.8 MB/s\u001b[0m eta \u001b[36m0:00:00\u001b[0m\n",
            "\u001b[?25hDownloading qiskit_aer-0.17.2-cp312-cp312-manylinux_2_17_x86_64.manylinux2014_x86_64.whl (12.4 MB)\n",
            "\u001b[2K   \u001b[90m━━━━━━━━━━━━━━━━━━━━━━━━━━━━━━━━━━━━━━━━\u001b[0m \u001b[32m12.4/12.4 MB\u001b[0m \u001b[31m56.4 MB/s\u001b[0m eta \u001b[36m0:00:00\u001b[0m\n",
            "\u001b[?25hDownloading rustworkx-0.17.1-cp39-abi3-manylinux_2_17_x86_64.manylinux2014_x86_64.whl (2.2 MB)\n",
            "\u001b[2K   \u001b[90m━━━━━━━━━━━━━━━━━━━━━━━━━━━━━━━━━━━━━━━━\u001b[0m \u001b[32m2.2/2.2 MB\u001b[0m \u001b[31m17.6 MB/s\u001b[0m eta \u001b[36m0:00:00\u001b[0m\n",
            "\u001b[?25hDownloading stevedore-5.5.0-py3-none-any.whl (49 kB)\n",
            "\u001b[2K   \u001b[90m━━━━━━━━━━━━━━━━━━━━━━━━━━━━━━━━━━━━━━━━\u001b[0m \u001b[32m49.5/49.5 kB\u001b[0m \u001b[31m1.9 MB/s\u001b[0m eta \u001b[36m0:00:00\u001b[0m\n",
            "\u001b[?25hInstalling collected packages: stevedore, rustworkx, qiskit, qiskit-aer\n",
            "Successfully installed qiskit-2.2.1 qiskit-aer-0.17.2 rustworkx-0.17.1 stevedore-5.5.0\n"
          ]
        }
      ]
    },
    {
      "cell_type": "code",
      "execution_count": 2,
      "metadata": {
        "id": "VPOwLacGrCdU",
        "outputId": "a61950fa-d8a3-40d7-dba6-6390ec3ac446",
        "colab": {
          "base_uri": "https://localhost:8080/"
        }
      },
      "outputs": [
        {
          "output_type": "stream",
          "name": "stdout",
          "text": [
            "\n",
            "--- Original Circuit ---\n",
            "        ┌───┐            ░ ┌─┐   \n",
            "   q_0: ┤ H ├──■───■──X──░─┤M├───\n",
            "        └───┘┌─┴─┐ │  │  ░ └╥┘┌─┐\n",
            "   q_1: ─────┤ X ├─■──X──░──╫─┤M├\n",
            "             └───┘       ░  ║ └╥┘\n",
            "   c: 2/════════════════════╬══╬═\n",
            "                            ║  ║ \n",
            "meas: 2/════════════════════╩══╩═\n",
            "                            0  1 \n",
            "Measurement Counts: {'00 00': 511, '11 00': 513}\n",
            "\n",
            "--- Control/Target Swapped in CNOT and CZ ---\n",
            "        ┌───┐┌───┐       ░ ┌─┐   \n",
            "   q_0: ┤ H ├┤ X ├─■──X──░─┤M├───\n",
            "        └───┘└─┬─┘ │  │  ░ └╥┘┌─┐\n",
            "   q_1: ───────■───■──X──░──╫─┤M├\n",
            "                         ░  ║ └╥┘\n",
            "   c: 2/════════════════════╬══╬═\n",
            "                            ║  ║ \n",
            "meas: 2/════════════════════╩══╩═\n",
            "                            0  1 \n",
            "Measurement Counts: {'00 00': 499, '10 00': 525}\n",
            "\n",
            "Explanation:\n",
            "Swapping control and target changes which qubit influences the other. For example, in CNOT, the control determines when the target flips. This changes the entanglement pattern and final measurement probabilities.\n",
            "\n",
            "--- Circuit Without SWAP Gate ---\n",
            "        ┌───┐         ░ ┌─┐   \n",
            "   q_0: ┤ H ├──■───■──░─┤M├───\n",
            "        └───┘┌─┴─┐ │  ░ └╥┘┌─┐\n",
            "   q_1: ─────┤ X ├─■──░──╫─┤M├\n",
            "             └───┘    ░  ║ └╥┘\n",
            "   c: 2/═════════════════╬══╬═\n",
            "                         ║  ║ \n",
            "meas: 2/═════════════════╩══╩═\n",
            "                         0  1 \n",
            "Measurement Counts: {'00 00': 519, '11 00': 505}\n",
            "\n",
            "Observation:\n",
            "Removing the SWAP gate means the qubits retain their original positions, so measurement results correspond directly to qubits 0 and 1 without being exchanged.\n",
            "\n",
            "--- Added Hadamard on Qubit 1 Before CNOT ---\n",
            "        ┌───┐            ░ ┌─┐   \n",
            "   q_0: ┤ H ├──■───■──X──░─┤M├───\n",
            "        ├───┤┌─┴─┐ │  │  ░ └╥┘┌─┐\n",
            "   q_1: ┤ H ├┤ X ├─■──X──░──╫─┤M├\n",
            "        └───┘└───┘       ░  ║ └╥┘\n",
            "   c: 2/════════════════════╬══╬═\n",
            "                            ║  ║ \n",
            "meas: 2/════════════════════╩══╩═\n",
            "                            0  1 \n",
            "Measurement Counts: {'00 00': 249, '10 00': 263, '11 00': 280, '01 00': 232}\n",
            "\n",
            "Explanation:\n",
            "Adding a Hadamard on qubit 1 places it into superposition before entanglement. This changes interference effects and can lead to a more uniform or altered distribution of measurement outcomes across basis states.\n"
          ]
        }
      ],
      "source": [
        "from qiskit import QuantumCircuit, transpile\n",
        "from qiskit_aer import AerSimulator\n",
        "\n",
        "# Initialize simulator\n",
        "sim = AerSimulator()\n",
        "\n",
        "def run_and_print(qc, description):\n",
        "    \"\"\"Helper to run, simulate, and print results\"\"\"\n",
        "    compiled = transpile(qc, sim)\n",
        "    result = sim.run(compiled, shots=1024).result()\n",
        "    counts = result.get_counts()\n",
        "    print(f\"\\n--- {description} ---\")\n",
        "    print(qc.draw())\n",
        "    print(\"Measurement Counts:\", counts)\n",
        "\n",
        "# ===============================================================\n",
        "# 1. ORIGINAL CIRCUIT\n",
        "# ===============================================================\n",
        "qc_original = QuantumCircuit(2, 2)\n",
        "qc_original.h(0)        # Hadamard on qubit 0\n",
        "qc_original.cx(0, 1)    # CNOT with control=0, target=1\n",
        "qc_original.cz(0, 1)    # CZ with control=0, target=1\n",
        "qc_original.swap(0, 1)  # Swap qubit 0 and 1\n",
        "qc_original.measure_all()\n",
        "run_and_print(qc_original, \"Original Circuit\")\n",
        "\n",
        "# ===============================================================\n",
        "# 2. CONTROL/TARGET VARIATION\n",
        "# ===============================================================\n",
        "qc_swapped_control = QuantumCircuit(2, 2)\n",
        "qc_swapped_control.h(0)\n",
        "qc_swapped_control.cx(1, 0)  # Control and target swapped\n",
        "qc_swapped_control.cz(1, 0)  # Control and target swapped\n",
        "qc_swapped_control.swap(0, 1)\n",
        "qc_swapped_control.measure_all()\n",
        "run_and_print(qc_swapped_control, \"Control/Target Swapped in CNOT and CZ\")\n",
        "\n",
        "print(\"\\nExplanation:\")\n",
        "print(\"Swapping control and target changes which qubit influences the other. \"\n",
        "      \"For example, in CNOT, the control determines when the target flips. \"\n",
        "      \"This changes the entanglement pattern and final measurement probabilities.\")\n",
        "\n",
        "# ===============================================================\n",
        "# 3. GATE REMOVAL (Remove SWAP gate)\n",
        "# ===============================================================\n",
        "qc_no_swap = QuantumCircuit(2, 2)\n",
        "qc_no_swap.h(0)\n",
        "qc_no_swap.cx(0, 1)\n",
        "qc_no_swap.cz(0, 1)\n",
        "# SWAP removed\n",
        "qc_no_swap.measure_all()\n",
        "run_and_print(qc_no_swap, \"Circuit Without SWAP Gate\")\n",
        "\n",
        "print(\"\\nObservation:\")\n",
        "print(\"Removing the SWAP gate means the qubits retain their original positions, \"\n",
        "      \"so measurement results correspond directly to qubits 0 and 1 without being exchanged.\")\n",
        "\n",
        "# ===============================================================\n",
        "# 4. ADD ANOTHER HADAMARD ON SECOND QUBIT BEFORE CNOT\n",
        "# ===============================================================\n",
        "qc_extra_h = QuantumCircuit(2, 2)\n",
        "qc_extra_h.h(0)\n",
        "qc_extra_h.h(1)       # Added Hadamard on qubit 1\n",
        "qc_extra_h.cx(0, 1)\n",
        "qc_extra_h.cz(0, 1)\n",
        "qc_extra_h.swap(0, 1)\n",
        "qc_extra_h.measure_all()\n",
        "run_and_print(qc_extra_h, \"Added Hadamard on Qubit 1 Before CNOT\")\n",
        "\n",
        "print(\"\\nExplanation:\")\n",
        "print(\"Adding a Hadamard on qubit 1 places it into superposition before entanglement. \"\n",
        "      \"This changes interference effects and can lead to a more uniform or altered distribution \"\n",
        "      \"of measurement outcomes across basis states.\")\n"
      ]
    },
    {
      "cell_type": "code",
      "source": [],
      "metadata": {
        "id": "XXSzfpG9q7hc"
      },
      "execution_count": null,
      "outputs": []
    }
  ]
}